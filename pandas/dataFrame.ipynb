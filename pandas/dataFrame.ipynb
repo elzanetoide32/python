{
 "cells": [
  {
   "cell_type": "code",
   "execution_count": 1,
   "metadata": {},
   "outputs": [],
   "source": [
    "import pandas as pd"
   ]
  },
  {
   "cell_type": "code",
   "execution_count": 4,
   "metadata": {},
   "outputs": [],
   "source": [
    "data= {'nombre':['maria','jose','david','ivan'],\n",
    "       'carrera':['auditoris','informatica','derecho','idiomas'],\n",
    "      'correo':['maria@gmail.com','jose@gmail.com','david@gmail.com','ivan@gmail.com']}      "
   ]
  },
  {
   "cell_type": "code",
   "execution_count": 5,
   "metadata": {},
   "outputs": [],
   "source": [
    "estudiantes= pd.DataFrame(data)"
   ]
  },
  {
   "cell_type": "code",
   "execution_count": 6,
   "metadata": {},
   "outputs": [
    {
     "name": "stdout",
     "output_type": "stream",
     "text": [
      "  nombre      carrera           correo\n",
      "0  maria    auditoris  maria@gmail.com\n",
      "1   jose  informatica   jose@gmail.com\n",
      "2  david      derecho  david@gmail.com\n",
      "3   ivan      idiomas   ivan@gmail.com\n"
     ]
    }
   ],
   "source": [
    "print(estudiantes)"
   ]
  },
  {
   "cell_type": "code",
   "execution_count": 8,
   "metadata": {},
   "outputs": [],
   "source": [
    "df= pd.DataFrame([['maria',27],['david',33],['ana',18],['jose',17]],columns=['nombre','edad'])"
   ]
  },
  {
   "cell_type": "code",
   "execution_count": 9,
   "metadata": {},
   "outputs": [
    {
     "name": "stdout",
     "output_type": "stream",
     "text": [
      "  nombre  edad\n",
      "0  maria    27\n",
      "1  david    33\n",
      "2    ana    18\n",
      "3   jose    17\n"
     ]
    }
   ],
   "source": [
    "print(df)"
   ]
  },
  {
   "cell_type": "code",
   "execution_count": 10,
   "metadata": {},
   "outputs": [],
   "source": [
    "import numpy as np"
   ]
  },
  {
   "cell_type": "code",
   "execution_count": 13,
   "metadata": {},
   "outputs": [],
   "source": [
    "df= pd.DataFrame(np.random.randn(9,3),columns=['a','b','c'])"
   ]
  },
  {
   "cell_type": "code",
   "execution_count": 14,
   "metadata": {},
   "outputs": [
    {
     "name": "stdout",
     "output_type": "stream",
     "text": [
      "          a         b         c\n",
      "0  1.360050  0.381259 -0.633501\n",
      "1  0.595260  0.831292  1.615760\n",
      "2  0.778530  0.899152  0.279091\n",
      "3  1.761569 -0.218279 -0.859037\n",
      "4  0.558857 -0.303257  0.818796\n",
      "5  0.145217 -0.783893 -1.026220\n",
      "6  0.418758  0.516609  0.713206\n",
      "7  0.163518 -0.857337 -0.186475\n",
      "8 -0.603578 -0.988969 -0.636530\n"
     ]
    }
   ],
   "source": [
    "print(df)"
   ]
  },
  {
   "cell_type": "code",
   "execution_count": null,
   "metadata": {},
   "outputs": [],
   "source": []
  }
 ],
 "metadata": {
  "kernelspec": {
   "display_name": "Python 3",
   "language": "python",
   "name": "python3"
  },
  "language_info": {
   "codemirror_mode": {
    "name": "ipython",
    "version": 3
   },
   "file_extension": ".py",
   "mimetype": "text/x-python",
   "name": "python",
   "nbconvert_exporter": "python",
   "pygments_lexer": "ipython3",
   "version": "3.8.3"
  }
 },
 "nbformat": 4,
 "nbformat_minor": 4
}
